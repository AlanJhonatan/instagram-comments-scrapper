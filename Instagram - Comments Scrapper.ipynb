{
 "cells": [
  {
   "cell_type": "code",
   "execution_count": 1,
   "metadata": {},
   "outputs": [],
   "source": [
    "import time                                     #to use time.sleep()\n",
    "from seleniumwire import webdriver              # using seleniumwire to allow inspect network requests/responses \n",
    "from seleniumwire.webdriver import ActionChains # using ActionChains to trigger .click() event on any kind of element"
   ]
  },
  {
   "cell_type": "code",
   "execution_count": 2,
   "metadata": {},
   "outputs": [],
   "source": [
    "import json\n",
    "from requests import Request, Session"
   ]
  },
  {
   "cell_type": "code",
   "execution_count": 3,
   "metadata": {},
   "outputs": [
    {
     "data": {
      "text/plain": [
       "'https://www.instagram.com/p/B-pln9YJ_6z/'"
      ]
     },
     "execution_count": 3,
     "metadata": {},
     "output_type": "execute_result"
    }
   ],
   "source": [
    "#Post search variables\n",
    "#https://www.instagram.com/p/B-pln9YJ_6z/\n",
    "#https://www.instagram.com/p/Bfkx-6lHbf7/\n",
    "\n",
    "postUrl = 'https://www.instagram.com/p/B-pln9YJ_6z/'\n",
    "\n",
    "postUrl"
   ]
  },
  {
   "cell_type": "code",
   "execution_count": 4,
   "metadata": {},
   "outputs": [
    {
     "data": {
      "text/plain": [
       "'Its working perfectly !'"
      ]
     },
     "execution_count": 4,
     "metadata": {},
     "output_type": "execute_result"
    }
   ],
   "source": [
    "def urlfier (arr):\n",
    "    return str(''.join(arr))\n",
    "\n",
    "urlfier(['Its ', 'working ', 'perfectly ', '!'])"
   ]
  },
  {
   "cell_type": "code",
   "execution_count": 5,
   "metadata": {},
   "outputs": [],
   "source": [
    "def queryExtractor(url):\n",
    "    return url[url.find('after%22%3A%22') + len('after%22%3A%22') : url.find('%3D%3D%22%7D')]\n",
    "\n",
    "#queryExtractor(requestUrl)"
   ]
  },
  {
   "cell_type": "code",
   "execution_count": null,
   "metadata": {},
   "outputs": [],
   "source": [
    "def getNextHash(response):\n",
    "    return "
   ]
  },
  {
   "cell_type": "code",
   "execution_count": 6,
   "metadata": {},
   "outputs": [
    {
     "data": {
      "text/plain": [
       "'B-pln9YJ_6z'"
      ]
     },
     "execution_count": 6,
     "metadata": {},
     "output_type": "execute_result"
    }
   ],
   "source": [
    "#get the post hash\n",
    "postHash = postUrl[28:len(postUrl) - 1]\n",
    "postHash"
   ]
  },
  {
   "cell_type": "code",
   "execution_count": 7,
   "metadata": {},
   "outputs": [],
   "source": [
    "#static variables\n",
    "queryHash = 'https://www.instagram.com/graphql/query/?query_hash='\n",
    "matches = [postHash, queryHash, 'shortcode', 'first', 'after']\n",
    "total_comments = 0"
   ]
  },
  {
   "cell_type": "code",
   "execution_count": 8,
   "metadata": {},
   "outputs": [
    {
     "name": "stdout",
     "output_type": "stream",
     "text": [
      "Wait browser open in post page !\n",
      "Ready to go !\n"
     ]
    }
   ],
   "source": [
    "#using ChromeDriver\n",
    "print('Wait browser open in post page !')\n",
    "driver = webdriver.Chrome('./chromedriver.exe')\n",
    "driver.get(postUrl)\n",
    "print('Ready to go !')"
   ]
  },
  {
   "cell_type": "code",
   "execution_count": 9,
   "metadata": {},
   "outputs": [
    {
     "data": {
      "text/plain": [
       "<selenium.webdriver.remote.webelement.WebElement (session=\"5242d8f1842cf7681c6bbcec840fee65\", element=\"73657863-fe3b-428c-ac5e-6b96507f9bba\")>"
      ]
     },
     "execution_count": 9,
     "metadata": {},
     "output_type": "execute_result"
    }
   ],
   "source": [
    "#class of 'load more' button -> glyphsSpriteCircle_add__outline__24__grey_9 u-__7 (detected manually)\n",
    "#handling the element based on his class\n",
    "element = driver.find_element_by_class_name('glyphsSpriteCircle_add__outline__24__grey_9.u-__7')\n",
    "element"
   ]
  },
  {
   "cell_type": "code",
   "execution_count": 10,
   "metadata": {},
   "outputs": [],
   "source": [
    "# trigger the button to make next page request\n",
    "element.click()"
   ]
  },
  {
   "cell_type": "code",
   "execution_count": 11,
   "metadata": {},
   "outputs": [
    {
     "data": {
      "text/plain": [
       "'https://www.instagram.com/graphql/query/?query_hash=bc3296d1ce80a24b1b6e40b1e72903f5&variables=%7B%22shortcode%22%3A%22B-pln9YJ_6z%22%2C%22first%22%3A12%2C%22after%22%3A%22QVFDdmRVNS16UW1TMkNFVDJpN1dDbmxLUHpkQVJWZlBQZzNsakJ2UDJfVjRlMGU4MFhnVmRKVm1FN182b1dPTUlkRW42NktacUJjdl9fcGx2aVd3UUVRdw%3D%3D%22%7D'"
      ]
     },
     "execution_count": 11,
     "metadata": {},
     "output_type": "execute_result"
    }
   ],
   "source": [
    "#handle the url of Instagram GraphQL comments endpoint \n",
    "requestUrl = ''\n",
    "\n",
    "#search the endpoint url\n",
    "for request in driver.requests:\n",
    "    if all(x in request.url for x in matches):\n",
    "        requestUrl = request.url\n",
    "\n",
    "requestUrl"
   ]
  },
  {
   "cell_type": "code",
   "execution_count": 12,
   "metadata": {},
   "outputs": [
    {
     "data": {
      "text/plain": [
       "['QVFDdmRVNS16UW1TMkNFVDJpN1dDbmxLUHpkQVJWZlBQZzNsakJ2UDJfVjRlMGU4MFhnVmRKVm1FN182b1dPTUlkRW42NktacUJjdl9fcGx2aVd3UUVRdw']"
      ]
     },
     "execution_count": 12,
     "metadata": {},
     "output_type": "execute_result"
    }
   ],
   "source": [
    "#handle all hash of all pages\n",
    "pagesHash = []\n",
    "pagesHash.append(queryExtractor(requestUrl))\n",
    "\n",
    "pagesHash"
   ]
  },
  {
   "cell_type": "code",
   "execution_count": 13,
   "metadata": {},
   "outputs": [
    {
     "data": {
      "text/plain": [
       "{'Accept': 'text/html,application/xhtml+xml,application/xml;q=0.9,image/avif,image/webp,image/apng,*/*;q=0.8,application/signed-exchange;v=b3;q=0.9',\n",
       " 'User-Agent': 'Mozilla/5.0 (Windows NT 10.0; Win64; x64) AppleWebKit/537.36 (KHTML, like Gecko) Chrome/87.0.4280.88 Safari/537.36',\n",
       " 'Host': 'www.instagram.com',\n",
       " 'Sec-Fetch-Dest': 'document',\n",
       " 'Sec-Fetch-Mode': 'navigate'}"
      ]
     },
     "execution_count": 13,
     "metadata": {},
     "output_type": "execute_result"
    }
   ],
   "source": [
    "#Settin Up the custom request infos\n",
    "\n",
    "headers = {\n",
    "    \"Accept\": \"text/html,application/xhtml+xml,application/xml;q=0.9,image/avif,image/webp,image/apng,*/*;q=0.8,application/signed-exchange;v=b3;q=0.9\",\n",
    "    \"User-Agent\": \"Mozilla/5.0 (Windows NT 10.0; Win64; x64) AppleWebKit/537.36 (KHTML, like Gecko) Chrome/87.0.4280.88 Safari/537.36\",\n",
    "    \"Host\": \"www.instagram.com\",\n",
    "    \"Sec-Fetch-Dest\": \"document\",\n",
    "    \"Sec-Fetch-Mode\": \"navigate\",\n",
    "}\n",
    "\n",
    "headers"
   ]
  },
  {
   "cell_type": "code",
   "execution_count": 14,
   "metadata": {},
   "outputs": [
    {
     "data": {
      "text/plain": [
       "'https://www.instagram.com/graphql/query/?query_hash=bc3296d1ce80a24b1b6e40b1e72903f5&variables=%7B%22shortcode%22%3A%22B-pln9YJ_6z%22%2C%22first%22%3A12%2C%22after%22%3A%22QVFDdmRVNS16UW1TMkNFVDJpN1dDbmxLUHpkQVJWZlBQZzNsakJ2UDJfVjRlMGU4MFhnVmRKVm1FN182b1dPTUlkRW42NktacUJjdl9fcGx2aVd3UUVRdw%3D%3D%22%7D'"
      ]
     },
     "execution_count": 14,
     "metadata": {},
     "output_type": "execute_result"
    }
   ],
   "source": [
    "URL = [\n",
    "        queryHash,\n",
    "        requestUrl[requestUrl.find('?query_hash=') + len('?query_hash=') : 158 + len('after%22%3A%22')], # variables\n",
    "        pagesHash[-1], # pagination hash idx 2\n",
    "        '%3D%3D%22%7D',\n",
    "      ]\n",
    "\n",
    "urlfier(URL)"
   ]
  },
  {
   "cell_type": "code",
   "execution_count": 15,
   "metadata": {},
   "outputs": [
    {
     "data": {
      "text/plain": [
       "<PreparedRequest [GET]>"
      ]
     },
     "execution_count": 15,
     "metadata": {},
     "output_type": "execute_result"
    }
   ],
   "source": [
    "# Prepare the first request\n",
    "\n",
    "prepped = Request('GET',\n",
    "                  urlfier(URL),\n",
    "                  headers=headers,\n",
    "                 ).prepare()\n",
    "\n",
    "prepped"
   ]
  },
  {
   "cell_type": "code",
   "execution_count": 16,
   "metadata": {},
   "outputs": [
    {
     "data": {
      "text/plain": [
       "[]"
      ]
     },
     "execution_count": 16,
     "metadata": {},
     "output_type": "execute_result"
    }
   ],
   "source": [
    "# Request Handler\n",
    "reqHandler = []\n",
    "\n",
    "# Edges Handler\n",
    "#edgesHandler = []\n",
    "\n",
    "reqHandler#, edgesHandler"
   ]
  },
  {
   "cell_type": "code",
   "execution_count": 17,
   "metadata": {},
   "outputs": [
    {
     "data": {
      "text/plain": [
       "(<Response [200]>, 1)"
      ]
     },
     "execution_count": 17,
     "metadata": {},
     "output_type": "execute_result"
    }
   ],
   "source": [
    "# Session Setup\n",
    "s = Session() \n",
    "\n",
    "# Making the request\n",
    "resp = s.send(prepped) \n",
    "\n",
    "reqHandler.append(resp.json())\n",
    "\n",
    "resp, len(reqHandler)"
   ]
  },
  {
   "cell_type": "code",
   "execution_count": 18,
   "metadata": {},
   "outputs": [
    {
     "data": {
      "text/plain": [
       "1503"
      ]
     },
     "execution_count": 18,
     "metadata": {},
     "output_type": "execute_result"
    }
   ],
   "source": [
    "total_comments = reqHandler[0]['data']['shortcode_media']['edge_media_to_parent_comment']['count']\n",
    "total_comments"
   ]
  },
  {
   "cell_type": "code",
   "execution_count": 19,
   "metadata": {
    "scrolled": true
   },
   "outputs": [
    {
     "data": {
      "text/plain": [
       "(True,\n",
       " 'QVFDSFNQeW1WYVlfT2ZCZGpMaFhKRS1nLV9mM2xKTVVVRWdTNUY5ZklVcjYtY2FUbTQxb3h1VlJLbzJoUTl3Q18tX3VNd1dXQlhtajVETGNCd1VCWnFPUQ',\n",
       " ['QVFDdmRVNS16UW1TMkNFVDJpN1dDbmxLUHpkQVJWZlBQZzNsakJ2UDJfVjRlMGU4MFhnVmRKVm1FN182b1dPTUlkRW42NktacUJjdl9fcGx2aVd3UUVRdw',\n",
       "  'QVFDSFNQeW1WYVlfT2ZCZGpMaFhKRS1nLV9mM2xKTVVVRWdTNUY5ZklVcjYtY2FUbTQxb3h1VlJLbzJoUTl3Q18tX3VNd1dXQlhtajVETGNCd1VCWnFPUQ'])"
      ]
     },
     "execution_count": 19,
     "metadata": {},
     "output_type": "execute_result"
    }
   ],
   "source": [
    "# Setup some variables\n",
    "\n",
    "# Get if Has Next Page \n",
    "has_next = reqHandler[-1]['data']['shortcode_media']['edge_media_to_parent_comment']['page_info']['has_next_page']\n",
    "\n",
    "# Get the Next Page Hash\n",
    "next_hash = reqHandler[-1]['data']['shortcode_media']['edge_media_to_parent_comment']['page_info']['end_cursor'][:(-2)]\n",
    "\n",
    "# Append second hash in list\n",
    "pagesHash.append(next_hash)\n",
    "\n",
    "has_next, next_hash, pagesHash"
   ]
  },
  {
   "cell_type": "code",
   "execution_count": 20,
   "metadata": {
    "scrolled": true
   },
   "outputs": [
    {
     "name": "stdout",
     "output_type": "stream",
     "text": [
      "1 requests made.\n",
      "2 requests made.\n",
      "3 requests made.\n",
      "4 requests made.\n",
      "5 requests made.\n",
      "6 requests made.\n",
      "7 requests made.\n",
      "8 requests made.\n",
      "9 requests made.\n",
      "10 requests made.\n",
      "11 requests made.\n",
      "12 requests made.\n",
      "13 requests made.\n",
      "14 requests made.\n",
      "15 requests made.\n",
      "16 requests made.\n",
      "17 requests made.\n",
      "18 requests made.\n",
      "19 requests made.\n",
      "20 requests made.\n",
      "21 requests made.\n",
      "22 requests made.\n",
      "23 requests made.\n",
      "24 requests made.\n",
      "25 requests made.\n",
      "26 requests made.\n",
      "27 requests made.\n",
      "28 requests made.\n",
      "29 requests made.\n",
      "30 requests made.\n",
      "31 requests made.\n",
      "32 requests made.\n",
      "33 requests made.\n",
      "34 requests made.\n",
      "35 requests made.\n",
      "36 requests made.\n",
      "37 requests made.\n",
      "38 requests made.\n",
      "39 requests made.\n",
      "40 requests made.\n",
      "41 requests made.\n",
      "42 requests made.\n",
      "43 requests made.\n",
      "44 requests made.\n",
      "45 requests made.\n",
      "46 requests made.\n",
      "47 requests made.\n",
      "48 requests made.\n",
      "49 requests made.\n",
      "50 requests made.\n",
      "51 requests made.\n",
      "52 requests made.\n",
      "53 requests made.\n",
      "54 requests made.\n",
      "55 requests made.\n",
      "56 requests made.\n",
      "57 requests made.\n",
      "58 requests made.\n",
      "59 requests made.\n",
      "60 requests made.\n",
      "61 requests made.\n",
      "62 requests made.\n",
      "63 requests made.\n",
      "64 requests made.\n",
      "65 requests made.\n",
      "66 requests made.\n",
      "67 requests made.\n",
      "68 requests made.\n",
      "69 requests made.\n",
      "70 requests made.\n",
      "71 requests made.\n",
      "72 requests made.\n",
      "73 requests made.\n",
      "74 requests made.\n",
      "75 requests made.\n",
      "76 requests made.\n",
      "77 requests made.\n",
      "78 requests made.\n",
      "79 requests made.\n",
      "80 requests made.\n",
      "81 requests made.\n",
      "82 requests made.\n",
      "83 requests made.\n",
      "84 requests made.\n",
      "85 requests made.\n",
      "86 requests made.\n",
      "87 requests made.\n",
      "88 requests made.\n",
      "89 requests made.\n",
      "90 requests made.\n",
      "91 requests made.\n",
      "92 requests made.\n",
      "93 requests made.\n",
      "94 requests made.\n",
      "95 requests made.\n",
      "96 requests made.\n",
      "97 requests made.\n",
      "98 requests made.\n",
      "99 requests made.\n",
      "100 requests made.\n",
      "101 requests made.\n",
      "102 requests made.\n",
      "103 requests made.\n",
      "104 requests made.\n",
      "105 requests made.\n",
      "106 requests made.\n",
      "107 requests made.\n",
      "108 requests made.\n",
      "109 requests made.\n",
      "110 requests made.\n",
      "111 requests made.\n"
     ]
    },
    {
     "ename": "TypeError",
     "evalue": "'NoneType' object is not subscriptable",
     "output_type": "error",
     "traceback": [
      "\u001b[1;31m---------------------------------------------------------------------------\u001b[0m",
      "\u001b[1;31mTypeError\u001b[0m                                 Traceback (most recent call last)",
      "\u001b[1;32m<ipython-input-20-4c55b06596c1>\u001b[0m in \u001b[0;36m<module>\u001b[1;34m\u001b[0m\n\u001b[0;32m     12\u001b[0m \u001b[1;33m\u001b[0m\u001b[0m\n\u001b[0;32m     13\u001b[0m     \u001b[0mhas_next\u001b[0m \u001b[1;33m=\u001b[0m \u001b[0mreqHandler\u001b[0m\u001b[1;33m[\u001b[0m\u001b[1;33m-\u001b[0m\u001b[1;36m1\u001b[0m\u001b[1;33m]\u001b[0m\u001b[1;33m[\u001b[0m\u001b[1;34m'data'\u001b[0m\u001b[1;33m]\u001b[0m\u001b[1;33m[\u001b[0m\u001b[1;34m'shortcode_media'\u001b[0m\u001b[1;33m]\u001b[0m\u001b[1;33m[\u001b[0m\u001b[1;34m'edge_media_to_parent_comment'\u001b[0m\u001b[1;33m]\u001b[0m\u001b[1;33m[\u001b[0m\u001b[1;34m'page_info'\u001b[0m\u001b[1;33m]\u001b[0m\u001b[1;33m[\u001b[0m\u001b[1;34m'has_next_page'\u001b[0m\u001b[1;33m]\u001b[0m\u001b[1;33m\u001b[0m\u001b[1;33m\u001b[0m\u001b[0m\n\u001b[1;32m---> 14\u001b[1;33m     \u001b[0mnext_hash\u001b[0m \u001b[1;33m=\u001b[0m \u001b[0mreqHandler\u001b[0m\u001b[1;33m[\u001b[0m\u001b[1;33m-\u001b[0m\u001b[1;36m1\u001b[0m\u001b[1;33m]\u001b[0m\u001b[1;33m[\u001b[0m\u001b[1;34m'data'\u001b[0m\u001b[1;33m]\u001b[0m\u001b[1;33m[\u001b[0m\u001b[1;34m'shortcode_media'\u001b[0m\u001b[1;33m]\u001b[0m\u001b[1;33m[\u001b[0m\u001b[1;34m'edge_media_to_parent_comment'\u001b[0m\u001b[1;33m]\u001b[0m\u001b[1;33m[\u001b[0m\u001b[1;34m'page_info'\u001b[0m\u001b[1;33m]\u001b[0m\u001b[1;33m[\u001b[0m\u001b[1;34m'end_cursor'\u001b[0m\u001b[1;33m]\u001b[0m\u001b[1;33m[\u001b[0m\u001b[1;33m:\u001b[0m\u001b[1;33m(\u001b[0m\u001b[1;33m-\u001b[0m\u001b[1;36m2\u001b[0m\u001b[1;33m)\u001b[0m\u001b[1;33m]\u001b[0m\u001b[1;33m\u001b[0m\u001b[1;33m\u001b[0m\u001b[0m\n\u001b[0m\u001b[0;32m     15\u001b[0m     \u001b[0mtime\u001b[0m\u001b[1;33m.\u001b[0m\u001b[0msleep\u001b[0m\u001b[1;33m(\u001b[0m\u001b[1;36m1.5\u001b[0m\u001b[1;33m)\u001b[0m\u001b[1;33m\u001b[0m\u001b[1;33m\u001b[0m\u001b[0m\n\u001b[0;32m     16\u001b[0m \u001b[1;33m\u001b[0m\u001b[0m\n",
      "\u001b[1;31mTypeError\u001b[0m: 'NoneType' object is not subscriptable"
     ]
    }
   ],
   "source": [
    "req_count = 1\n",
    "while has_next:\n",
    "    \n",
    "    URL[2] = next_hash\n",
    "    prepped.url = urlfier(URL)\n",
    "    \n",
    "    resp = s.send(prepped)\n",
    "    print(f'{req_count} requests made.')\n",
    "    req_count += 1\n",
    "    \n",
    "    reqHandler.append(resp.json())\n",
    "    \n",
    "    has_next = reqHandler[-1]['data']['shortcode_media']['edge_media_to_parent_comment']['page_info']['has_next_page']\n",
    "    next_hash = reqHandler[-1]['data']['shortcode_media']['edge_media_to_parent_comment']['page_info']['end_cursor'][:(-2)]\n",
    "    time.sleep(1.5)\n",
    "\n",
    "len(reqHandler)"
   ]
  },
  {
   "cell_type": "code",
   "execution_count": 22,
   "metadata": {},
   "outputs": [
    {
     "data": {
      "text/plain": [
       "False"
      ]
     },
     "execution_count": 22,
     "metadata": {},
     "output_type": "execute_result"
    }
   ],
   "source": [
    "has_next"
   ]
  },
  {
   "cell_type": "code",
   "execution_count": 66,
   "metadata": {},
   "outputs": [
    {
     "data": {
      "text/plain": [
       "True"
      ]
     },
     "execution_count": 66,
     "metadata": {},
     "output_type": "execute_result"
    }
   ],
   "source": [
    "res_handler = reqHandler\n",
    "\n",
    "len(res_handler) == len(reqHandler)"
   ]
  },
  {
   "cell_type": "code",
   "execution_count": 67,
   "metadata": {},
   "outputs": [],
   "source": [
    "edges_handler = []"
   ]
  },
  {
   "cell_type": "code",
   "execution_count": 76,
   "metadata": {},
   "outputs": [
    {
     "data": {
      "text/plain": [
       "[{'node': {'id': '18145711345009751',\n",
       "   'text': 'That show was fire bro fire. Inspiring',\n",
       "   'created_at': 1591740362,\n",
       "   'did_report_as_spam': False,\n",
       "   'owner': {'id': '5870022855',\n",
       "    'is_verified': False,\n",
       "    'profile_pic_url': 'https://scontent-gru2-2.cdninstagram.com/v/t51.2885-19/s150x150/125306034_773308609884821_5132705361019659910_n.jpg?_nc_ht=scontent-gru2-2.cdninstagram.com&_nc_ohc=m2uMxWBMWUgAX_HdI1C&tp=1&oh=022636521a78c68727dc841e7540d8b2&oe=60085CCF',\n",
       "    'username': 'dust_py'},\n",
       "   'viewer_has_liked': False,\n",
       "   'edge_liked_by': {'count': 0},\n",
       "   'is_restricted_pending': False,\n",
       "   'edge_threaded_comments': {'count': 0,\n",
       "    'page_info': {'has_next_page': False, 'end_cursor': None},\n",
       "    'edges': []}}},\n",
       " {'node': {'id': '17870643427785058',\n",
       "   'text': 'I need the next season NOW😖 This show was so good. But props to everyone who worked on this!',\n",
       "   'created_at': 1591761903,\n",
       "   'did_report_as_spam': False,\n",
       "   'owner': {'id': '5891644015',\n",
       "    'is_verified': False,\n",
       "    'profile_pic_url': 'https://scontent-gru2-2.cdninstagram.com/v/t51.2885-19/s150x150/131026354_142031784109061_9103991539451096412_n.jpg?_nc_ht=scontent-gru2-2.cdninstagram.com&_nc_ohc=Nw-mhglJQ-8AX-sruMG&tp=1&oh=e61e0d059d4e6d1b5025528223f8e2ef&oe=6009229A',\n",
       "    'username': 'nixkofficial_'},\n",
       "   'viewer_has_liked': False,\n",
       "   'edge_liked_by': {'count': 2},\n",
       "   'is_restricted_pending': False,\n",
       "   'edge_threaded_comments': {'count': 0,\n",
       "    'page_info': {'has_next_page': False, 'end_cursor': None},\n",
       "    'edges': []}}},\n",
       " {'node': {'id': '17920327240409920',\n",
       "   'text': 'Absolutely love midnight gospel! True inspiration for the people!',\n",
       "   'created_at': 1591802733,\n",
       "   'did_report_as_spam': False,\n",
       "   'owner': {'id': '769490158',\n",
       "    'is_verified': False,\n",
       "    'profile_pic_url': 'https://scontent-gru2-2.cdninstagram.com/v/t51.2885-19/s150x150/117814286_365270321526638_8812582244618804885_n.jpg?_nc_ht=scontent-gru2-2.cdninstagram.com&_nc_ohc=h40Zb1sglp8AX_Cqeiq&tp=1&oh=b073866cd706ae35058ff3982a283ef5&oe=6009654F',\n",
       "    'username': 'super_duper_joe'},\n",
       "   'viewer_has_liked': False,\n",
       "   'edge_liked_by': {'count': 1},\n",
       "   'is_restricted_pending': False,\n",
       "   'edge_threaded_comments': {'count': 0,\n",
       "    'page_info': {'has_next_page': False, 'end_cursor': None},\n",
       "    'edges': []}}},\n",
       " {'node': {'id': '17853468878072116',\n",
       "   'text': 'It is incredible! 🤯',\n",
       "   'created_at': 1591816582,\n",
       "   'did_report_as_spam': False,\n",
       "   'owner': {'id': '2284802631',\n",
       "    'is_verified': False,\n",
       "    'profile_pic_url': 'https://scontent-gru2-2.cdninstagram.com/v/t51.2885-19/s150x150/12292787_630110107092263_158024393_a.jpg?_nc_ht=scontent-gru2-2.cdninstagram.com&_nc_ohc=NvyvGKWeJnQAX8FFpaz&tp=1&oh=42e84a94484d9560a20d0e3d9f211e45&oe=60064294',\n",
       "    'username': 'maximusfoxx'},\n",
       "   'viewer_has_liked': False,\n",
       "   'edge_liked_by': {'count': 0},\n",
       "   'is_restricted_pending': False,\n",
       "   'edge_threaded_comments': {'count': 0,\n",
       "    'page_info': {'has_next_page': False, 'end_cursor': None},\n",
       "    'edges': []}}},\n",
       " {'node': {'id': '17855984006028336',\n",
       "   'text': 'Best show out',\n",
       "   'created_at': 1591835249,\n",
       "   'did_report_as_spam': False,\n",
       "   'owner': {'id': '2155633492',\n",
       "    'is_verified': False,\n",
       "    'profile_pic_url': 'https://scontent-gru2-2.cdninstagram.com/v/t51.2885-19/s150x150/31136634_460355787737846_5268969297803214848_n.jpg?_nc_ht=scontent-gru2-2.cdninstagram.com&_nc_ohc=TTzHsD7sI48AX8nTIx6&tp=1&oh=762a719081804aa03dd167b8801bb5fa&oe=600A1154',\n",
       "    'username': 'iamceectheseraph'},\n",
       "   'viewer_has_liked': False,\n",
       "   'edge_liked_by': {'count': 0},\n",
       "   'is_restricted_pending': False,\n",
       "   'edge_threaded_comments': {'count': 0,\n",
       "    'page_info': {'has_next_page': False, 'end_cursor': None},\n",
       "    'edges': []}}},\n",
       " {'node': {'id': '17899015255500832',\n",
       "   'text': 'Gracias por tanto! ❤️',\n",
       "   'created_at': 1591861799,\n",
       "   'did_report_as_spam': False,\n",
       "   'owner': {'id': '5951613950',\n",
       "    'is_verified': False,\n",
       "    'profile_pic_url': 'https://scontent-gru2-2.cdninstagram.com/v/t51.2885-19/s150x150/128962130_225862588956179_6676234161929446595_n.jpg?_nc_ht=scontent-gru2-2.cdninstagram.com&_nc_ohc=6lq4gDM58DUAX_s6x_T&tp=1&oh=39e70e0cae9c9911afa9263fb779db57&oe=6006B461',\n",
       "    'username': 'dosaguilass'},\n",
       "   'viewer_has_liked': False,\n",
       "   'edge_liked_by': {'count': 0},\n",
       "   'is_restricted_pending': False,\n",
       "   'edge_threaded_comments': {'count': 0,\n",
       "    'page_info': {'has_next_page': False, 'end_cursor': None},\n",
       "    'edges': []}}},\n",
       " {'node': {'id': '18105590131180584',\n",
       "   'text': 'I always find something new when I watch each episode again🙏 that brain of yours💪',\n",
       "   'created_at': 1592132321,\n",
       "   'did_report_as_spam': False,\n",
       "   'owner': {'id': '26280626002',\n",
       "    'is_verified': False,\n",
       "    'profile_pic_url': 'https://scontent-gru2-2.cdninstagram.com/v/t51.2885-19/s150x150/80846500_582800172291360_1974255586748923904_n.jpg?_nc_ht=scontent-gru2-2.cdninstagram.com&_nc_ohc=oeJ1WSA3QS0AX8wLxcB&tp=1&oh=e9dab37a38b280864c3ff3f1204d8554&oe=60088876',\n",
       "    'username': 'dank.products'},\n",
       "   'viewer_has_liked': False,\n",
       "   'edge_liked_by': {'count': 1},\n",
       "   'is_restricted_pending': False,\n",
       "   'edge_threaded_comments': {'count': 0,\n",
       "    'page_info': {'has_next_page': False, 'end_cursor': None},\n",
       "    'edges': []}}},\n",
       " {'node': {'id': '17869877170779935',\n",
       "   'text': 'Thank You Duncan! I love everything about this show. 😎❤️',\n",
       "   'created_at': 1592272867,\n",
       "   'did_report_as_spam': False,\n",
       "   'owner': {'id': '17469455',\n",
       "    'is_verified': False,\n",
       "    'profile_pic_url': 'https://scontent-gru2-2.cdninstagram.com/v/t51.2885-19/11821076_1702813509963128_1011036341_a.jpg?_nc_ht=scontent-gru2-2.cdninstagram.com&_nc_ohc=edtf2voRZyEAX-UiqKr&oh=9c23dda7bf9f69bde1fd32d525fbfbad&oe=6008C9D1',\n",
       "    'username': 'ty_palmer_'},\n",
       "   'viewer_has_liked': False,\n",
       "   'edge_liked_by': {'count': 0},\n",
       "   'is_restricted_pending': False,\n",
       "   'edge_threaded_comments': {'count': 0,\n",
       "    'page_info': {'has_next_page': False, 'end_cursor': None},\n",
       "    'edges': []}}},\n",
       " {'node': {'id': '17849517053109817',\n",
       "   'text': 'Check out my trippy video art on my highlight',\n",
       "   'created_at': 1592361808,\n",
       "   'did_report_as_spam': False,\n",
       "   'owner': {'id': '2367915474',\n",
       "    'is_verified': False,\n",
       "    'profile_pic_url': 'https://scontent-gru2-2.cdninstagram.com/v/t51.2885-19/s150x150/125784100_707697350124437_341081610017626758_n.jpg?_nc_ht=scontent-gru2-2.cdninstagram.com&_nc_ohc=ZiHQkvPYsVYAX-Wzozu&tp=1&oh=52288445834efa3f094de72979840453&oe=6009E4D8',\n",
       "    'username': 'lisagirl77'},\n",
       "   'viewer_has_liked': False,\n",
       "   'edge_liked_by': {'count': 0},\n",
       "   'is_restricted_pending': False,\n",
       "   'edge_threaded_comments': {'count': 0,\n",
       "    'page_info': {'has_next_page': False, 'end_cursor': None},\n",
       "    'edges': []}}},\n",
       " {'node': {'id': '17844639431241779',\n",
       "   'text': 'Tomar um LSD, sentar em frente a tv e poder me encontrar em pequenos detalhes, a sua animação despertou o que chamaríamos dey',\n",
       "   'created_at': 1592745012,\n",
       "   'did_report_as_spam': False,\n",
       "   'owner': {'id': '1471359275',\n",
       "    'is_verified': False,\n",
       "    'profile_pic_url': 'https://scontent-gru2-2.cdninstagram.com/v/t51.2885-19/s150x150/41895331_2162820667376305_2846171545980633088_n.jpg?_nc_ht=scontent-gru2-2.cdninstagram.com&_nc_ohc=fj_pZf3Kp80AX8lZjag&tp=1&oh=b88da59dc9240aba73e78814a6d21c38&oe=6009BD8E',\n",
       "    'username': 'ludibriga'},\n",
       "   'viewer_has_liked': False,\n",
       "   'edge_liked_by': {'count': 0},\n",
       "   'is_restricted_pending': False,\n",
       "   'edge_threaded_comments': {'count': 0,\n",
       "    'page_info': {'has_next_page': False, 'end_cursor': None},\n",
       "    'edges': []}}},\n",
       " {'node': {'id': '17895818779521546',\n",
       "   'text': 'Muchas gracias !!! it really help me!',\n",
       "   'created_at': 1592802974,\n",
       "   'did_report_as_spam': False,\n",
       "   'owner': {'id': '211522252',\n",
       "    'is_verified': False,\n",
       "    'profile_pic_url': 'https://scontent-gru2-2.cdninstagram.com/v/t51.2885-19/s150x150/123172269_211136287104733_5090436545317317911_n.jpg?_nc_ht=scontent-gru2-2.cdninstagram.com&_nc_ohc=UpMvwUYJ-lEAX90fgkU&tp=1&oh=d8993605f43cd870075b833e7e2ee958&oe=6008EDE3',\n",
       "    'username': 'pilu_libelula'},\n",
       "   'viewer_has_liked': False,\n",
       "   'edge_liked_by': {'count': 0},\n",
       "   'is_restricted_pending': False,\n",
       "   'edge_threaded_comments': {'count': 0,\n",
       "    'page_info': {'has_next_page': False, 'end_cursor': None},\n",
       "    'edges': []}}},\n",
       " {'node': {'id': '18148138090032043',\n",
       "   'text': 'When season 2',\n",
       "   'created_at': 1592939299,\n",
       "   'did_report_as_spam': False,\n",
       "   'owner': {'id': '37304185739',\n",
       "    'is_verified': False,\n",
       "    'profile_pic_url': 'https://scontent-gru2-2.cdninstagram.com/v/t51.2885-19/s150x150/84146352_268924714428553_5226253905509212616_n.jpg?_nc_ht=scontent-gru2-2.cdninstagram.com&_nc_ohc=KcjCw4vDh3oAX_Od-7Z&tp=1&oh=93a9f00ecb0243300c646eba15cc80cf&oe=600664F4',\n",
       "    'username': 'rrbluestar'},\n",
       "   'viewer_has_liked': False,\n",
       "   'edge_liked_by': {'count': 1},\n",
       "   'is_restricted_pending': False,\n",
       "   'edge_threaded_comments': {'count': 0,\n",
       "    'page_info': {'has_next_page': False, 'end_cursor': None},\n",
       "    'edges': []}}}]"
      ]
     },
     "execution_count": 76,
     "metadata": {},
     "output_type": "execute_result"
    }
   ],
   "source": [
    " res_handler[0]['data']['shortcode_media']['edge_media_to_parent_comment']['edges']"
   ]
  },
  {
   "cell_type": "code",
   "execution_count": 80,
   "metadata": {},
   "outputs": [],
   "source": [
    "# reset de edges handler just in case\n",
    "edges_handler = []"
   ]
  },
  {
   "cell_type": "code",
   "execution_count": 81,
   "metadata": {
    "scrolled": true
   },
   "outputs": [
    {
     "name": "stdout",
     "output_type": "stream",
     "text": [
      "\"edges_handler\" has 1332 comments in total.\n"
     ]
    }
   ],
   "source": [
    "#extract all comments to an serialized array of comments. \n",
    "for req in res_handler:\n",
    "    for node in req['data']['shortcode_media']['edge_media_to_parent_comment']['edges']:\n",
    "        edges_handler.append(node['node'])\n",
    "        \n",
    "print(f'\"edges_handler\" has {len(edges_handler)} comments in total.')"
   ]
  },
  {
   "cell_type": "code",
   "execution_count": 91,
   "metadata": {
    "scrolled": true
   },
   "outputs": [
    {
     "data": {
      "text/plain": [
       "{'id': '18054791563229324',\n",
       " 'text': 'SO GOOD',\n",
       " 'created_at': 1589440552,\n",
       " 'did_report_as_spam': False,\n",
       " 'owner': {'id': '3583518231',\n",
       "  'is_verified': False,\n",
       "  'profile_pic_url': 'https://scontent-gru2-2.cdninstagram.com/v/t51.2885-19/s150x150/131297427_1119461398485362_4851356043381710867_n.jpg?_nc_ht=scontent-gru2-2.cdninstagram.com&_nc_ohc=OVFt9GqE1LQAX9tfL9N&tp=1&oh=bc5ca0745e0b7ee68107cc6d28d5d58c&oe=60078E3D',\n",
       "  'username': 'herbertgenna'},\n",
       " 'viewer_has_liked': False,\n",
       " 'edge_liked_by': {'count': 1},\n",
       " 'is_restricted_pending': False,\n",
       " 'edge_threaded_comments': {'count': 0,\n",
       "  'page_info': {'has_next_page': False, 'end_cursor': None},\n",
       "  'edges': []}}"
      ]
     },
     "execution_count": 91,
     "metadata": {},
     "output_type": "execute_result"
    }
   ],
   "source": [
    "# Sample of content\n",
    "edges_handler[100]"
   ]
  },
  {
   "cell_type": "code",
   "execution_count": 93,
   "metadata": {},
   "outputs": [
    {
     "data": {
      "text/plain": [
       "[]"
      ]
     },
     "execution_count": 93,
     "metadata": {},
     "output_type": "execute_result"
    }
   ],
   "source": [
    "result = []\n",
    "\n",
    "result"
   ]
  },
  {
   "cell_type": "code",
   "execution_count": null,
   "metadata": {},
   "outputs": [],
   "source": [
    "# Starting DFS\n",
    "for comment in edges_handler:\n",
    "    result.append([])"
   ]
  },
  {
   "cell_type": "code",
   "execution_count": null,
   "metadata": {},
   "outputs": [],
   "source": []
  }
 ],
 "metadata": {
  "kernelspec": {
   "display_name": "Python 3",
   "language": "python",
   "name": "python3"
  },
  "language_info": {
   "codemirror_mode": {
    "name": "ipython",
    "version": 3
   },
   "file_extension": ".py",
   "mimetype": "text/x-python",
   "name": "python",
   "nbconvert_exporter": "python",
   "pygments_lexer": "ipython3",
   "version": "3.8.6"
  }
 },
 "nbformat": 4,
 "nbformat_minor": 4
}
