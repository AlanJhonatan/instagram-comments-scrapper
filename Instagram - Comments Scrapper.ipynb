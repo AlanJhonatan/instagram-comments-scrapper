{
 "cells": [
  {
   "cell_type": "code",
   "execution_count": 1,
   "metadata": {},
   "outputs": [],
   "source": [
    "import time                                     #to use time.sleep()\n",
    "from seleniumwire import webdriver              # using seleniumwire to allow inspect network requests/responses \n",
    "from seleniumwire.webdriver import ActionChains # using ActionChains to trigger .click() event on any kind of element"
   ]
  },
  {
   "cell_type": "code",
   "execution_count": 19,
   "metadata": {},
   "outputs": [],
   "source": [
    "import json\n",
    "import requests"
   ]
  },
  {
   "cell_type": "code",
   "execution_count": 59,
   "metadata": {},
   "outputs": [],
   "source": [
    "#Set some env variables\n",
    "postUrl = 'https://www.instagram.com/p/Bq-GLGsl30_/'\n",
    "postHash = 'Bq-GLGsl30_' ####### GET IT AUTO LATER\n",
    "queryHash = 'https://www.instagram.com/graphql/query/?query_hash='\n",
    "matches = [postHash, queryHash, 'shortcode', 'first', 'after']"
   ]
  },
  {
   "cell_type": "code",
   "execution_count": 56,
   "metadata": {},
   "outputs": [
    {
     "name": "stdout",
     "output_type": "stream",
     "text": [
      "Browser opening...\n"
     ]
    }
   ],
   "source": [
    "#using ChromeDriver\n",
    "driver = webdriver.Chrome('./chromedriver.exe')\n",
    "driver.get(postUrl);\n",
    "print('Browser opening...')"
   ]
  },
  {
   "cell_type": "code",
   "execution_count": 65,
   "metadata": {},
   "outputs": [
    {
     "data": {
      "text/plain": [
       "([<selenium.webdriver.remote.webelement.WebElement (session=\"3db236a8e034358bee9f905710d709db\", element=\"a2a56d11-b424-4354-9c62-cfade61c89e5\")>],\n",
       " 'https://www.instagram.com/graphql/query/?query_hash=bc3296d1ce80a24b1b6e40b1e72903f5&variables=%7B%22shortcode%22%3A%22Bq-GLGsl30_%22%2C%22first%22%3A12%2C%22after%22%3A%22QVFBWnFhRkVJT0NVd3Nnd0ZmUTR1WlhsRXJIVXhsRU1qeXAyLVNJc2RCQ2VlRUNsMDR2TUNKY3RIbjIxQXB5MEZNUl9CTXpPOU9GYjdUbEJTTjBvZUFVUw%3D%3D%22%7D')"
      ]
     },
     "execution_count": 65,
     "metadata": {},
     "output_type": "execute_result"
    }
   ],
   "source": [
    "#class of 'load more' button -> glyphsSpriteCircle_add__outline__24__grey_9 u-__7\n",
    "#getting the element based on his class\n",
    "requestUrl = ''\n",
    "element = driver.find_element_by_class_name('glyphsSpriteCircle_add__outline__24__grey_9.u-__7')\n",
    "element.click()\n",
    "for request in driver.requests:\n",
    "    if all(x in request.url for x in matches):\n",
    "        requestUrl = request.url\n",
    "\n",
    "elements, requestUrl"
   ]
  },
  {
   "cell_type": "code",
   "execution_count": 66,
   "metadata": {},
   "outputs": [
    {
     "data": {
      "text/plain": [
       "('QVFDZlpZVks2Y3B3NXRWeE1Hd3d1N2REcXlnQ3RrbWhrbzJpajNaZEI1OGd0Q1dRbWsxSzY2SW9oOFFuT0JCbTJyOEo3UGRKdWhMM0pfN1Z1TnJlUFlCTA==',\n",
       " {'data': {'shortcode_media': {'edge_media_to_parent_comment': {'count': 1110,\n",
       "     'page_info': {'has_next_page': True,\n",
       "      'end_cursor': 'QVFDZlpZVks2Y3B3NXRWeE1Hd3d1N2REcXlnQ3RrbWhrbzJpajNaZEI1OGd0Q1dRbWsxSzY2SW9oOFFuT0JCbTJyOEo3UGRKdWhMM0pfN1Z1TnJlUFlCTA=='},\n",
       "     'edges': [{'node': {'id': '18134353945054026',\n",
       "        'text': 'O cara do lado nao parece o patriota?',\n",
       "        'created_at': 1586175637,\n",
       "        'did_report_as_spam': False,\n",
       "        'owner': {'id': '1669841239',\n",
       "         'is_verified': False,\n",
       "         'profile_pic_url': 'https://instagram.fsod2-1.fna.fbcdn.net/v/t51.2885-19/s150x150/54512186_2459931890903736_4575821821735075840_n.jpg?_nc_ht=instagram.fsod2-1.fna.fbcdn.net&_nc_ohc=c7PbqGsZ184AX8w9c3k&tp=1&oh=e95d07d57fd2799deba9c6dcd46b5a20&oe=5FF72A1C',\n",
       "         'username': '_hebertreal_'},\n",
       "        'viewer_has_liked': False,\n",
       "        'edge_liked_by': {'count': 2},\n",
       "        'is_restricted_pending': False,\n",
       "        'edge_threaded_comments': {'count': 0,\n",
       "         'page_info': {'has_next_page': False, 'end_cursor': None},\n",
       "         'edges': []}}},\n",
       "      {'node': {'id': '17855619400906015',\n",
       "        'text': 'Pesada de mais pra baixar',\n",
       "        'created_at': 1587327524,\n",
       "        'did_report_as_spam': False,\n",
       "        'owner': {'id': '48231976',\n",
       "         'is_verified': False,\n",
       "         'profile_pic_url': 'https://instagram.fsod2-1.fna.fbcdn.net/v/t51.2885-19/s150x150/20634822_929951733827195_1444271671987929088_a.jpg?_nc_ht=instagram.fsod2-1.fna.fbcdn.net&_nc_ohc=zlQsy5kQ-JsAX_eEMmd&tp=1&oh=f2975f6ff57616dcdb103b5701de5148&oe=5FF7ACC8',\n",
       "         'username': 'kpaixaos'},\n",
       "        'viewer_has_liked': False,\n",
       "        'edge_liked_by': {'count': 3},\n",
       "        'is_restricted_pending': False,\n",
       "        'edge_threaded_comments': {'count': 0,\n",
       "         'page_info': {'has_next_page': False, 'end_cursor': None},\n",
       "         'edges': []}}},\n",
       "      {'node': {'id': '17842821587166535',\n",
       "        'text': 'Meus amores 😻',\n",
       "        'created_at': 1589131860,\n",
       "        'did_report_as_spam': False,\n",
       "        'owner': {'id': '19621682439',\n",
       "         'is_verified': False,\n",
       "         'profile_pic_url': 'https://instagram.fsod2-1.fna.fbcdn.net/v/t51.2885-19/s150x150/117313762_734816520705032_2490816777703522385_n.jpg?_nc_ht=instagram.fsod2-1.fna.fbcdn.net&_nc_ohc=k4QqZXmmnLQAX99UHPJ&tp=1&oh=cfa80ab3e178c8af9e1c067a427df189&oe=5FF927EC',\n",
       "         'username': 'amaysuki'},\n",
       "        'viewer_has_liked': False,\n",
       "        'edge_liked_by': {'count': 0},\n",
       "        'is_restricted_pending': False,\n",
       "        'edge_threaded_comments': {'count': 0,\n",
       "         'page_info': {'has_next_page': False, 'end_cursor': None},\n",
       "         'edges': []}}},\n",
       "      {'node': {'id': '17852574053026658',\n",
       "        'text': 'carai uma lombadinha começa alto aí desce e deps sobe dnv',\n",
       "        'created_at': 1589415311,\n",
       "        'did_report_as_spam': False,\n",
       "        'owner': {'id': '25356326596',\n",
       "         'is_verified': False,\n",
       "         'profile_pic_url': 'https://instagram.fsod2-1.fna.fbcdn.net/v/t51.2885-19/s150x150/121205439_2663330783918087_8339546906118159432_n.jpg?_nc_ht=instagram.fsod2-1.fna.fbcdn.net&_nc_ohc=hM-okVWIrDwAX_ZZ9aH&tp=1&oh=ae4e89a40979b3bae2088393998e1803&oe=5FFA50EA',\n",
       "         'username': 'omarlinhojull'},\n",
       "        'viewer_has_liked': False,\n",
       "        'edge_liked_by': {'count': 2},\n",
       "        'is_restricted_pending': False,\n",
       "        'edge_threaded_comments': {'count': 0,\n",
       "         'page_info': {'has_next_page': False, 'end_cursor': None},\n",
       "         'edges': []}}},\n",
       "      {'node': {'id': '18104900422186541',\n",
       "        'text': 'Olha o tamanho do braço do alan kkkkk',\n",
       "        'created_at': 1589424751,\n",
       "        'did_report_as_spam': False,\n",
       "        'owner': {'id': '16874444892',\n",
       "         'is_verified': False,\n",
       "         'profile_pic_url': 'https://instagram.fsod2-1.fna.fbcdn.net/v/t51.2885-19/s150x150/125566778_1022338031505119_7248754972828424461_n.jpg?_nc_ht=instagram.fsod2-1.fna.fbcdn.net&_nc_ohc=zvJLBFlrtP0AX_0TALo&tp=1&oh=78c5c28a6da9a7182035c136d1d27096&oe=5FF9C5AB',\n",
       "         'username': 'slv.mateus'},\n",
       "        'viewer_has_liked': False,\n",
       "        'edge_liked_by': {'count': 5},\n",
       "        'is_restricted_pending': False,\n",
       "        'edge_threaded_comments': {'count': 0,\n",
       "         'page_info': {'has_next_page': False, 'end_cursor': None},\n",
       "         'edges': []}}},\n",
       "      {'node': {'id': '17950371349341188',\n",
       "        'text': 'Alan e o bonde da van azul',\n",
       "        'created_at': 1590493341,\n",
       "        'did_report_as_spam': False,\n",
       "        'owner': {'id': '1321874462',\n",
       "         'is_verified': False,\n",
       "         'profile_pic_url': 'https://instagram.fsod2-1.fna.fbcdn.net/v/t51.2885-19/s150x150/128336463_127702415782226_1266001705568250822_n.jpg?_nc_ht=instagram.fsod2-1.fna.fbcdn.net&_nc_ohc=NI1zCL4KgmEAX_p65_l&tp=1&oh=26bfae5ac9f5584a0bd8b59e257178bf&oe=5FF71197',\n",
       "         'username': 'jvbuueno'},\n",
       "        'viewer_has_liked': False,\n",
       "        'edge_liked_by': {'count': 1},\n",
       "        'is_restricted_pending': False,\n",
       "        'edge_threaded_comments': {'count': 0,\n",
       "         'page_info': {'has_next_page': False, 'end_cursor': None},\n",
       "         'edges': []}}},\n",
       "      {'node': {'id': '18103024213183184',\n",
       "        'text': 'Seu braço tá igual o do Slender man, chega nas duas pontas',\n",
       "        'created_at': 1590493366,\n",
       "        'did_report_as_spam': False,\n",
       "        'owner': {'id': '1321874462',\n",
       "         'is_verified': False,\n",
       "         'profile_pic_url': 'https://instagram.fsod2-1.fna.fbcdn.net/v/t51.2885-19/s150x150/128336463_127702415782226_1266001705568250822_n.jpg?_nc_ht=instagram.fsod2-1.fna.fbcdn.net&_nc_ohc=NI1zCL4KgmEAX_p65_l&tp=1&oh=26bfae5ac9f5584a0bd8b59e257178bf&oe=5FF71197',\n",
       "         'username': 'jvbuueno'},\n",
       "        'viewer_has_liked': False,\n",
       "        'edge_liked_by': {'count': 0},\n",
       "        'is_restricted_pending': False,\n",
       "        'edge_threaded_comments': {'count': 0,\n",
       "         'page_info': {'has_next_page': False, 'end_cursor': None},\n",
       "         'edges': []}}},\n",
       "      {'node': {'id': '17890079785548026',\n",
       "        'text': 'Cara só digo uma coisa olha a sorte q esse cara tem mano olha com quem ele tirou foto mano o Neymar tiro foto com o Alan krl mano como eu queria ser o Neymar agora mlk sortudoooooooooo pqp',\n",
       "        'created_at': 1590612437,\n",
       "        'did_report_as_spam': False,\n",
       "        'owner': {'id': '5812417069',\n",
       "         'is_verified': False,\n",
       "         'profile_pic_url': 'https://instagram.fsod2-1.fna.fbcdn.net/v/t51.2885-19/s150x150/128454292_198119818530196_1657775731115748599_n.jpg?_nc_ht=instagram.fsod2-1.fna.fbcdn.net&_nc_ohc=lCRXCgP21eYAX8yWXYP&tp=1&oh=e9935958b4e951c130343c8f382f4a31&oe=5FF7C0E1',\n",
       "         'username': 'ucarloz.uni'},\n",
       "        'viewer_has_liked': False,\n",
       "        'edge_liked_by': {'count': 5},\n",
       "        'is_restricted_pending': False,\n",
       "        'edge_threaded_comments': {'count': 0,\n",
       "         'page_info': {'has_next_page': False, 'end_cursor': None},\n",
       "         'edges': []}}},\n",
       "      {'node': {'id': '17868870076809739',\n",
       "        'text': 'Tem um ananzinho no meio',\n",
       "        'created_at': 1591153561,\n",
       "        'did_report_as_spam': False,\n",
       "        'owner': {'id': '3088578717',\n",
       "         'is_verified': False,\n",
       "         'profile_pic_url': 'https://instagram.fsod2-1.fna.fbcdn.net/v/t51.2885-19/s150x150/128366012_898284507373691_3624793235969613763_n.jpg?_nc_ht=instagram.fsod2-1.fna.fbcdn.net&_nc_ohc=njS30twhAaoAX-0ZkcV&tp=1&oh=7b9533c5f44ba25555a2a0afcd191d4d&oe=5FF753D7',\n",
       "         'username': 'ggsreduardo'},\n",
       "        'viewer_has_liked': False,\n",
       "        'edge_liked_by': {'count': 1},\n",
       "        'is_restricted_pending': False,\n",
       "        'edge_threaded_comments': {'count': 0,\n",
       "         'page_info': {'has_next_page': False, 'end_cursor': None},\n",
       "         'edges': []}}},\n",
       "      {'node': {'id': '18107872993095206',\n",
       "        'text': 'meudeus',\n",
       "        'created_at': 1592176765,\n",
       "        'did_report_as_spam': False,\n",
       "        'owner': {'id': '35791265702',\n",
       "         'is_verified': False,\n",
       "         'profile_pic_url': 'https://instagram.fsod2-1.fna.fbcdn.net/v/t51.2885-19/s150x150/103413267_920551285056925_4124927366447739420_n.jpg?_nc_ht=instagram.fsod2-1.fna.fbcdn.net&_nc_ohc=ZRC3tnDZayYAX8wwkU_&tp=1&oh=194b98d0b6db7d459dea72d4a8d2037c&oe=5FF774D2',\n",
       "         'username': 'olivia_criss'},\n",
       "        'viewer_has_liked': False,\n",
       "        'edge_liked_by': {'count': 1},\n",
       "        'is_restricted_pending': False,\n",
       "        'edge_threaded_comments': {'count': 0,\n",
       "         'page_info': {'has_next_page': False, 'end_cursor': None},\n",
       "         'edges': []}}},\n",
       "      {'node': {'id': '17870196340819229',\n",
       "        'text': 'Alan anão',\n",
       "        'created_at': 1593918763,\n",
       "        'did_report_as_spam': False,\n",
       "        'owner': {'id': '30747840642',\n",
       "         'is_verified': False,\n",
       "         'profile_pic_url': 'https://instagram.fsod2-1.fna.fbcdn.net/v/t51.2885-19/s150x150/121054484_238665674261223_5630505906626557851_n.jpg?_nc_ht=instagram.fsod2-1.fna.fbcdn.net&_nc_ohc=B-LRRV2bDbAAX_f657R&tp=1&oh=d4ad73ff5ed2f2bae241a5cad59bc85c&oe=5FF754DC',\n",
       "         'username': 'salinhokk'},\n",
       "        'viewer_has_liked': False,\n",
       "        'edge_liked_by': {'count': 1},\n",
       "        'is_restricted_pending': False,\n",
       "        'edge_threaded_comments': {'count': 0,\n",
       "         'page_info': {'has_next_page': False, 'end_cursor': None},\n",
       "         'edges': []}}},\n",
       "      {'node': {'id': '17863024270939004',\n",
       "        'text': 'É o hayachii',\n",
       "        'created_at': 1594323744,\n",
       "        'did_report_as_spam': False,\n",
       "        'owner': {'id': '11542319103',\n",
       "         'is_verified': False,\n",
       "         'profile_pic_url': 'https://instagram.fsod2-1.fna.fbcdn.net/v/t51.2885-19/s150x150/52020952_553721461703981_7728976593283973120_n.jpg?_nc_ht=instagram.fsod2-1.fna.fbcdn.net&_nc_ohc=Lu6lOeY-w6gAX8zhLU6&tp=1&oh=a8937c29a366a55d97b5089cd4150319&oe=5FF82A80',\n",
       "         'username': 'arthur_caiado_feijo'},\n",
       "        'viewer_has_liked': False,\n",
       "        'edge_liked_by': {'count': 1},\n",
       "        'is_restricted_pending': False,\n",
       "        'edge_threaded_comments': {'count': 0,\n",
       "         'page_info': {'has_next_page': False, 'end_cursor': None},\n",
       "         'edges': []}}}]}}},\n",
       "  'status': 'ok'})"
      ]
     },
     "execution_count": 66,
     "metadata": {},
     "output_type": "execute_result"
    }
   ],
   "source": [
    "#get the Hash to access the new comments page\n",
    "r = requests.get(requestUrl)\n",
    "nextPageHash = r.json()['data']['shortcode_media']['edge_media_to_parent_comment']['page_info']['end_cursor']\n",
    "\n",
    "nextPageHash, r.json()"
   ]
  },
  {
   "cell_type": "code",
   "execution_count": null,
   "metadata": {},
   "outputs": [],
   "source": [
    "#get all comments from this page\n"
   ]
  },
  {
   "cell_type": "code",
   "execution_count": null,
   "metadata": {},
   "outputs": [],
   "source": []
  },
  {
   "cell_type": "code",
   "execution_count": null,
   "metadata": {},
   "outputs": [],
   "source": [
    "#closes browser\n",
    "driver.quit()"
   ]
  }
 ],
 "metadata": {
  "kernelspec": {
   "display_name": "Python 3",
   "language": "python",
   "name": "python3"
  },
  "language_info": {
   "codemirror_mode": {
    "name": "ipython",
    "version": 3
   },
   "file_extension": ".py",
   "mimetype": "text/x-python",
   "name": "python",
   "nbconvert_exporter": "python",
   "pygments_lexer": "ipython3",
   "version": "3.8.6"
  }
 },
 "nbformat": 4,
 "nbformat_minor": 4
}
