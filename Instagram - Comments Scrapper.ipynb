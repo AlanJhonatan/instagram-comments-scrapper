{
 "cells": [
  {
   "cell_type": "code",
   "execution_count": 1,
   "metadata": {},
   "outputs": [],
   "source": [
    "import time                                     #to use time.sleep()\n",
    "from seleniumwire import webdriver              # using seleniumwire to allow inspect network requests/responses \n",
    "from seleniumwire.webdriver import ActionChains # using ActionChains to trigger .click() event on any kind of element"
   ]
  },
  {
   "cell_type": "code",
   "execution_count": 15,
   "metadata": {},
   "outputs": [],
   "source": [
    "import json\n",
    "from requests import Request, Session"
   ]
  },
  {
   "cell_type": "code",
   "execution_count": 3,
   "metadata": {},
   "outputs": [
    {
     "data": {
      "text/plain": [
       "'https://www.instagram.com/p/B-pln9YJ_6z/'"
      ]
     },
     "execution_count": 3,
     "metadata": {},
     "output_type": "execute_result"
    }
   ],
   "source": [
    "#Post search variables\n",
    "#https://www.instagram.com/p/B-pln9YJ_6z/\n",
    "#https://www.instagram.com/p/Bfkx-6lHbf7/\n",
    "\n",
    "postUrl = 'https://www.instagram.com/p/B-pln9YJ_6z/'\n",
    "\n",
    "postUrl"
   ]
  },
  {
   "cell_type": "code",
   "execution_count": 4,
   "metadata": {},
   "outputs": [
    {
     "data": {
      "text/plain": [
       "'Its working perfectly !'"
      ]
     },
     "execution_count": 4,
     "metadata": {},
     "output_type": "execute_result"
    }
   ],
   "source": [
    "def urlfier (arr):\n",
    "    return str(''.join(arr))\n",
    "\n",
    "urlfier(['Its ', 'working ', 'perfectly ', '!'])"
   ]
  },
  {
   "cell_type": "code",
   "execution_count": 23,
   "metadata": {},
   "outputs": [
    {
     "data": {
      "text/plain": [
       "'QVFDUFcySERIald0V3d4SXE1a1owTkRfSXVLS0JyRjhpMFgxWlhGejg0amRZUHBIeERZcmlzdkFNSmh4QmY2bGoyOHVUbEp3bk81cUIzbmZuTjBHU2ZDZA'"
      ]
     },
     "execution_count": 23,
     "metadata": {},
     "output_type": "execute_result"
    }
   ],
   "source": [
    "def queryExtractor(url):\n",
    "    return url[url.find('after%22%3A%22') + len('after%22%3A%22') : url.find('%3D%3D%22%7D')]\n",
    "\n",
    "queryExtractor(requestUrl)"
   ]
  },
  {
   "cell_type": "code",
   "execution_count": null,
   "metadata": {},
   "outputs": [],
   "source": [
    "def getNextHash(response):\n",
    "    return "
   ]
  },
  {
   "cell_type": "code",
   "execution_count": 5,
   "metadata": {},
   "outputs": [
    {
     "data": {
      "text/plain": [
       "'B-pln9YJ_6z'"
      ]
     },
     "execution_count": 5,
     "metadata": {},
     "output_type": "execute_result"
    }
   ],
   "source": [
    "#get the post hash\n",
    "postHash = postUrl[28:len(postUrl) - 1]\n",
    "postHash"
   ]
  },
  {
   "cell_type": "code",
   "execution_count": 37,
   "metadata": {},
   "outputs": [],
   "source": [
    "#static variables\n",
    "queryHash = 'https://www.instagram.com/graphql/query/?query_hash='\n",
    "matches = [postHash, queryHash, 'shortcode', 'first', 'after']\n",
    "total_comments = 0"
   ]
  },
  {
   "cell_type": "code",
   "execution_count": 7,
   "metadata": {},
   "outputs": [
    {
     "name": "stdout",
     "output_type": "stream",
     "text": [
      "Wait browser open in post page !\n",
      "Ready to go !\n"
     ]
    }
   ],
   "source": [
    "#using ChromeDriver\n",
    "print('Wait browser open in post page !')\n",
    "driver = webdriver.Chrome('./chromedriver.exe')\n",
    "driver.get(postUrl)\n",
    "print('Ready to go !')"
   ]
  },
  {
   "cell_type": "code",
   "execution_count": 9,
   "metadata": {},
   "outputs": [
    {
     "data": {
      "text/plain": [
       "<selenium.webdriver.remote.webelement.WebElement (session=\"80e19da9124d8a1a471eab37f053d155\", element=\"c09fa21b-81a4-4e1c-a25d-2b36aef6ef6e\")>"
      ]
     },
     "execution_count": 9,
     "metadata": {},
     "output_type": "execute_result"
    }
   ],
   "source": [
    "#class of 'load more' button -> glyphsSpriteCircle_add__outline__24__grey_9 u-__7 (detected manually)\n",
    "#handling the element based on his class\n",
    "element = driver.find_element_by_class_name('glyphsSpriteCircle_add__outline__24__grey_9.u-__7')\n",
    "element"
   ]
  },
  {
   "cell_type": "code",
   "execution_count": 10,
   "metadata": {},
   "outputs": [],
   "source": [
    "# trigger the button to make next page request\n",
    "element.click()"
   ]
  },
  {
   "cell_type": "code",
   "execution_count": 11,
   "metadata": {},
   "outputs": [
    {
     "data": {
      "text/plain": [
       "'https://www.instagram.com/graphql/query/?query_hash=bc3296d1ce80a24b1b6e40b1e72903f5&variables=%7B%22shortcode%22%3A%22B-pln9YJ_6z%22%2C%22first%22%3A12%2C%22after%22%3A%22QVFDUFcySERIald0V3d4SXE1a1owTkRfSXVLS0JyRjhpMFgxWlhGejg0amRZUHBIeERZcmlzdkFNSmh4QmY2bGoyOHVUbEp3bk81cUIzbmZuTjBHU2ZDZA%3D%3D%22%7D'"
      ]
     },
     "execution_count": 11,
     "metadata": {},
     "output_type": "execute_result"
    }
   ],
   "source": [
    "#handle the url of Instagram GraphQL comments endpoint \n",
    "requestUrl = ''\n",
    "\n",
    "#search the endpoint url\n",
    "for request in driver.requests:\n",
    "    if all(x in request.url for x in matches):\n",
    "        requestUrl = request.url\n",
    "\n",
    "requestUrl"
   ]
  },
  {
   "cell_type": "code",
   "execution_count": 26,
   "metadata": {},
   "outputs": [
    {
     "data": {
      "text/plain": [
       "['QVFDUFcySERIald0V3d4SXE1a1owTkRfSXVLS0JyRjhpMFgxWlhGejg0amRZUHBIeERZcmlzdkFNSmh4QmY2bGoyOHVUbEp3bk81cUIzbmZuTjBHU2ZDZA']"
      ]
     },
     "execution_count": 26,
     "metadata": {},
     "output_type": "execute_result"
    }
   ],
   "source": [
    "#handle all hash of all pages\n",
    "pagesHash = []\n",
    "pagesHash.append(queryExtractor(requestUrl))\n",
    "\n",
    "pagesHash"
   ]
  },
  {
   "cell_type": "code",
   "execution_count": 16,
   "metadata": {},
   "outputs": [
    {
     "data": {
      "text/plain": [
       "{'Accept': 'text/html,application/xhtml+xml,application/xml;q=0.9,image/avif,image/webp,image/apng,*/*;q=0.8,application/signed-exchange;v=b3;q=0.9',\n",
       " 'User-Agent': 'Mozilla/5.0 (Windows NT 10.0; Win64; x64) AppleWebKit/537.36 (KHTML, like Gecko) Chrome/87.0.4280.88 Safari/537.36',\n",
       " 'Host': 'www.instagram.com',\n",
       " 'Sec-Fetch-Dest': 'document',\n",
       " 'Sec-Fetch-Mode': 'navigate'}"
      ]
     },
     "execution_count": 16,
     "metadata": {},
     "output_type": "execute_result"
    }
   ],
   "source": [
    "#Settin Up the custom request infos\n",
    "\n",
    "headers = {\n",
    "    \"Accept\": \"text/html,application/xhtml+xml,application/xml;q=0.9,image/avif,image/webp,image/apng,*/*;q=0.8,application/signed-exchange;v=b3;q=0.9\",\n",
    "    \"User-Agent\": \"Mozilla/5.0 (Windows NT 10.0; Win64; x64) AppleWebKit/537.36 (KHTML, like Gecko) Chrome/87.0.4280.88 Safari/537.36\",\n",
    "    \"Host\": \"www.instagram.com\",\n",
    "    \"Sec-Fetch-Dest\": \"document\",\n",
    "    \"Sec-Fetch-Mode\": \"navigate\",\n",
    "}\n",
    "\n",
    "headers"
   ]
  },
  {
   "cell_type": "code",
   "execution_count": 27,
   "metadata": {},
   "outputs": [
    {
     "data": {
      "text/plain": [
       "'https://www.instagram.com/graphql/query/?query_hash=bc3296d1ce80a24b1b6e40b1e72903f5&variables=%7B%22shortcode%22%3A%22B-pln9YJ_6z%22%2C%22first%22%3A12%2C%22after%22%3A%22QVFDUFcySERIald0V3d4SXE1a1owTkRfSXVLS0JyRjhpMFgxWlhGejg0amRZUHBIeERZcmlzdkFNSmh4QmY2bGoyOHVUbEp3bk81cUIzbmZuTjBHU2ZDZA%3D%3D%22%7D'"
      ]
     },
     "execution_count": 27,
     "metadata": {},
     "output_type": "execute_result"
    }
   ],
   "source": [
    "URL = [\n",
    "        queryHash,\n",
    "        requestUrl[requestUrl.find('?query_hash=') + len('?query_hash=') : 158 + len('after%22%3A%22')], # variables\n",
    "        pagesHash[-1], # pagination hash idx 2\n",
    "        '%3D%3D%22%7D',\n",
    "      ]\n",
    "\n",
    "urlfier(URL)"
   ]
  },
  {
   "cell_type": "code",
   "execution_count": 31,
   "metadata": {},
   "outputs": [
    {
     "data": {
      "text/plain": [
       "<PreparedRequest [GET]>"
      ]
     },
     "execution_count": 31,
     "metadata": {},
     "output_type": "execute_result"
    }
   ],
   "source": [
    "# Prepare the first request\n",
    "\n",
    "prepped = Request('GET',\n",
    "                  urlfier(URL),\n",
    "                  headers=headers,\n",
    "                 ).prepare()\n",
    "\n",
    "prepped"
   ]
  },
  {
   "cell_type": "code",
   "execution_count": 48,
   "metadata": {},
   "outputs": [
    {
     "data": {
      "text/plain": [
       "([], [])"
      ]
     },
     "execution_count": 48,
     "metadata": {},
     "output_type": "execute_result"
    }
   ],
   "source": [
    "# Request Handler\n",
    "reqHandler = []\n",
    "\n",
    "# Edges Handler\n",
    "#edgesHandler = []\n",
    "\n",
    "reqHandler#, edgesHandler"
   ]
  },
  {
   "cell_type": "code",
   "execution_count": 49,
   "metadata": {},
   "outputs": [
    {
     "data": {
      "text/plain": [
       "(<Response [200]>, 1)"
      ]
     },
     "execution_count": 49,
     "metadata": {},
     "output_type": "execute_result"
    }
   ],
   "source": [
    "# Session Setup\n",
    "s = Session() \n",
    "\n",
    "# Making the request\n",
    "resp = s.send(prepped) \n",
    "\n",
    "reqHandler.append(resp.json())\n",
    "\n",
    "resp, len(reqHandler)"
   ]
  },
  {
   "cell_type": "code",
   "execution_count": 52,
   "metadata": {},
   "outputs": [
    {
     "data": {
      "text/plain": [
       "1503"
      ]
     },
     "execution_count": 52,
     "metadata": {},
     "output_type": "execute_result"
    }
   ],
   "source": [
    "total_comments = reqHandler[0]['data']['shortcode_media']['edge_media_to_parent_comment']['count']\n",
    "total_comments"
   ]
  },
  {
   "cell_type": "code",
   "execution_count": 57,
   "metadata": {
    "scrolled": true
   },
   "outputs": [
    {
     "data": {
      "text/plain": [
       "(True,\n",
       " 'QVFBT2xqMi1lanZXOTZkb3Q5RXY1bDM2TGFvQ3h6VXJ3MVRoV3dDOTA0UEJmSC1XV2pYdkt6blExeUp2VG43Q290UnA5NmR4ZVpLcGllSW5DV1cyc3BrMA',\n",
       " ['QVFDUFcySERIald0V3d4SXE1a1owTkRfSXVLS0JyRjhpMFgxWlhGejg0amRZUHBIeERZcmlzdkFNSmh4QmY2bGoyOHVUbEp3bk81cUIzbmZuTjBHU2ZDZA',\n",
       "  'QVFBT2xqMi1lanZXOTZkb3Q5RXY1bDM2TGFvQ3h6VXJ3MVRoV3dDOTA0UEJmSC1XV2pYdkt6blExeUp2VG43Q290UnA5NmR4ZVpLcGllSW5DV1cyc3BrMA'])"
      ]
     },
     "execution_count": 57,
     "metadata": {},
     "output_type": "execute_result"
    }
   ],
   "source": [
    "# Setup some variables\n",
    "\n",
    "# Get if Has Next Page \n",
    "has_next = reqHandler[-1]['data']['shortcode_media']['edge_media_to_parent_comment']['page_info']['has_next_page']\n",
    "\n",
    "# Get the Next Page Hash\n",
    "next_hash = reqHandler[-1]['data']['shortcode_media']['edge_media_to_parent_comment']['page_info']['end_cursor'][:(-2)]\n",
    "\n",
    "# Append second hash in list\n",
    "pagesHash.append(next_hash)\n",
    "\n",
    "has_next, next_hash, pagesHash"
   ]
  },
  {
   "cell_type": "code",
   "execution_count": 59,
   "metadata": {},
   "outputs": [
    {
     "name": "stdout",
     "output_type": "stream",
     "text": [
      "1 requests made.\n",
      "1 requests made.\n",
      "1 requests made.\n",
      "1 requests made.\n",
      "1 requests made.\n",
      "1 requests made.\n",
      "1 requests made.\n",
      "1 requests made.\n",
      "1 requests made.\n",
      "1 requests made.\n",
      "1 requests made.\n"
     ]
    },
    {
     "ename": "JSONDecodeError",
     "evalue": "Expecting value: line 1 column 1 (char 0)",
     "output_type": "error",
     "traceback": [
      "\u001b[1;31m---------------------------------------------------------------------------\u001b[0m",
      "\u001b[1;31mJSONDecodeError\u001b[0m                           Traceback (most recent call last)",
      "\u001b[1;32m<ipython-input-59-b82fc1f6b640>\u001b[0m in \u001b[0;36m<module>\u001b[1;34m\u001b[0m\n\u001b[0;32m      8\u001b[0m     \u001b[0mprint\u001b[0m\u001b[1;33m(\u001b[0m\u001b[1;34mf'{req_count} requests made.'\u001b[0m\u001b[1;33m)\u001b[0m\u001b[1;33m\u001b[0m\u001b[1;33m\u001b[0m\u001b[0m\n\u001b[0;32m      9\u001b[0m \u001b[1;33m\u001b[0m\u001b[0m\n\u001b[1;32m---> 10\u001b[1;33m     \u001b[0mreqHandler\u001b[0m\u001b[1;33m.\u001b[0m\u001b[0mappend\u001b[0m\u001b[1;33m(\u001b[0m\u001b[0mresp\u001b[0m\u001b[1;33m.\u001b[0m\u001b[0mjson\u001b[0m\u001b[1;33m(\u001b[0m\u001b[1;33m)\u001b[0m\u001b[1;33m)\u001b[0m\u001b[1;33m\u001b[0m\u001b[1;33m\u001b[0m\u001b[0m\n\u001b[0m\u001b[0;32m     11\u001b[0m \u001b[1;33m\u001b[0m\u001b[0m\n\u001b[0;32m     12\u001b[0m     \u001b[0mhas_next\u001b[0m \u001b[1;33m=\u001b[0m \u001b[0mreqHandler\u001b[0m\u001b[1;33m[\u001b[0m\u001b[1;33m-\u001b[0m\u001b[1;36m1\u001b[0m\u001b[1;33m]\u001b[0m\u001b[1;33m[\u001b[0m\u001b[1;34m'data'\u001b[0m\u001b[1;33m]\u001b[0m\u001b[1;33m[\u001b[0m\u001b[1;34m'shortcode_media'\u001b[0m\u001b[1;33m]\u001b[0m\u001b[1;33m[\u001b[0m\u001b[1;34m'edge_media_to_parent_comment'\u001b[0m\u001b[1;33m]\u001b[0m\u001b[1;33m[\u001b[0m\u001b[1;34m'page_info'\u001b[0m\u001b[1;33m]\u001b[0m\u001b[1;33m[\u001b[0m\u001b[1;34m'has_next_page'\u001b[0m\u001b[1;33m]\u001b[0m\u001b[1;33m\u001b[0m\u001b[1;33m\u001b[0m\u001b[0m\n",
      "\u001b[1;32mc:\\python38\\lib\\site-packages\\requests\\models.py\u001b[0m in \u001b[0;36mjson\u001b[1;34m(self, **kwargs)\u001b[0m\n\u001b[0;32m    898\u001b[0m                     \u001b[1;31m# used.\u001b[0m\u001b[1;33m\u001b[0m\u001b[1;33m\u001b[0m\u001b[1;33m\u001b[0m\u001b[0m\n\u001b[0;32m    899\u001b[0m                     \u001b[1;32mpass\u001b[0m\u001b[1;33m\u001b[0m\u001b[1;33m\u001b[0m\u001b[0m\n\u001b[1;32m--> 900\u001b[1;33m         \u001b[1;32mreturn\u001b[0m \u001b[0mcomplexjson\u001b[0m\u001b[1;33m.\u001b[0m\u001b[0mloads\u001b[0m\u001b[1;33m(\u001b[0m\u001b[0mself\u001b[0m\u001b[1;33m.\u001b[0m\u001b[0mtext\u001b[0m\u001b[1;33m,\u001b[0m \u001b[1;33m**\u001b[0m\u001b[0mkwargs\u001b[0m\u001b[1;33m)\u001b[0m\u001b[1;33m\u001b[0m\u001b[1;33m\u001b[0m\u001b[0m\n\u001b[0m\u001b[0;32m    901\u001b[0m \u001b[1;33m\u001b[0m\u001b[0m\n\u001b[0;32m    902\u001b[0m     \u001b[1;33m@\u001b[0m\u001b[0mproperty\u001b[0m\u001b[1;33m\u001b[0m\u001b[1;33m\u001b[0m\u001b[0m\n",
      "\u001b[1;32mc:\\python38\\lib\\json\\__init__.py\u001b[0m in \u001b[0;36mloads\u001b[1;34m(s, cls, object_hook, parse_float, parse_int, parse_constant, object_pairs_hook, **kw)\u001b[0m\n\u001b[0;32m    355\u001b[0m             \u001b[0mparse_int\u001b[0m \u001b[1;32mis\u001b[0m \u001b[1;32mNone\u001b[0m \u001b[1;32mand\u001b[0m \u001b[0mparse_float\u001b[0m \u001b[1;32mis\u001b[0m \u001b[1;32mNone\u001b[0m \u001b[1;32mand\u001b[0m\u001b[1;33m\u001b[0m\u001b[1;33m\u001b[0m\u001b[0m\n\u001b[0;32m    356\u001b[0m             parse_constant is None and object_pairs_hook is None and not kw):\n\u001b[1;32m--> 357\u001b[1;33m         \u001b[1;32mreturn\u001b[0m \u001b[0m_default_decoder\u001b[0m\u001b[1;33m.\u001b[0m\u001b[0mdecode\u001b[0m\u001b[1;33m(\u001b[0m\u001b[0ms\u001b[0m\u001b[1;33m)\u001b[0m\u001b[1;33m\u001b[0m\u001b[1;33m\u001b[0m\u001b[0m\n\u001b[0m\u001b[0;32m    358\u001b[0m     \u001b[1;32mif\u001b[0m \u001b[0mcls\u001b[0m \u001b[1;32mis\u001b[0m \u001b[1;32mNone\u001b[0m\u001b[1;33m:\u001b[0m\u001b[1;33m\u001b[0m\u001b[1;33m\u001b[0m\u001b[0m\n\u001b[0;32m    359\u001b[0m         \u001b[0mcls\u001b[0m \u001b[1;33m=\u001b[0m \u001b[0mJSONDecoder\u001b[0m\u001b[1;33m\u001b[0m\u001b[1;33m\u001b[0m\u001b[0m\n",
      "\u001b[1;32mc:\\python38\\lib\\json\\decoder.py\u001b[0m in \u001b[0;36mdecode\u001b[1;34m(self, s, _w)\u001b[0m\n\u001b[0;32m    335\u001b[0m \u001b[1;33m\u001b[0m\u001b[0m\n\u001b[0;32m    336\u001b[0m         \"\"\"\n\u001b[1;32m--> 337\u001b[1;33m         \u001b[0mobj\u001b[0m\u001b[1;33m,\u001b[0m \u001b[0mend\u001b[0m \u001b[1;33m=\u001b[0m \u001b[0mself\u001b[0m\u001b[1;33m.\u001b[0m\u001b[0mraw_decode\u001b[0m\u001b[1;33m(\u001b[0m\u001b[0ms\u001b[0m\u001b[1;33m,\u001b[0m \u001b[0midx\u001b[0m\u001b[1;33m=\u001b[0m\u001b[0m_w\u001b[0m\u001b[1;33m(\u001b[0m\u001b[0ms\u001b[0m\u001b[1;33m,\u001b[0m \u001b[1;36m0\u001b[0m\u001b[1;33m)\u001b[0m\u001b[1;33m.\u001b[0m\u001b[0mend\u001b[0m\u001b[1;33m(\u001b[0m\u001b[1;33m)\u001b[0m\u001b[1;33m)\u001b[0m\u001b[1;33m\u001b[0m\u001b[1;33m\u001b[0m\u001b[0m\n\u001b[0m\u001b[0;32m    338\u001b[0m         \u001b[0mend\u001b[0m \u001b[1;33m=\u001b[0m \u001b[0m_w\u001b[0m\u001b[1;33m(\u001b[0m\u001b[0ms\u001b[0m\u001b[1;33m,\u001b[0m \u001b[0mend\u001b[0m\u001b[1;33m)\u001b[0m\u001b[1;33m.\u001b[0m\u001b[0mend\u001b[0m\u001b[1;33m(\u001b[0m\u001b[1;33m)\u001b[0m\u001b[1;33m\u001b[0m\u001b[1;33m\u001b[0m\u001b[0m\n\u001b[0;32m    339\u001b[0m         \u001b[1;32mif\u001b[0m \u001b[0mend\u001b[0m \u001b[1;33m!=\u001b[0m \u001b[0mlen\u001b[0m\u001b[1;33m(\u001b[0m\u001b[0ms\u001b[0m\u001b[1;33m)\u001b[0m\u001b[1;33m:\u001b[0m\u001b[1;33m\u001b[0m\u001b[1;33m\u001b[0m\u001b[0m\n",
      "\u001b[1;32mc:\\python38\\lib\\json\\decoder.py\u001b[0m in \u001b[0;36mraw_decode\u001b[1;34m(self, s, idx)\u001b[0m\n\u001b[0;32m    353\u001b[0m             \u001b[0mobj\u001b[0m\u001b[1;33m,\u001b[0m \u001b[0mend\u001b[0m \u001b[1;33m=\u001b[0m \u001b[0mself\u001b[0m\u001b[1;33m.\u001b[0m\u001b[0mscan_once\u001b[0m\u001b[1;33m(\u001b[0m\u001b[0ms\u001b[0m\u001b[1;33m,\u001b[0m \u001b[0midx\u001b[0m\u001b[1;33m)\u001b[0m\u001b[1;33m\u001b[0m\u001b[1;33m\u001b[0m\u001b[0m\n\u001b[0;32m    354\u001b[0m         \u001b[1;32mexcept\u001b[0m \u001b[0mStopIteration\u001b[0m \u001b[1;32mas\u001b[0m \u001b[0merr\u001b[0m\u001b[1;33m:\u001b[0m\u001b[1;33m\u001b[0m\u001b[1;33m\u001b[0m\u001b[0m\n\u001b[1;32m--> 355\u001b[1;33m             \u001b[1;32mraise\u001b[0m \u001b[0mJSONDecodeError\u001b[0m\u001b[1;33m(\u001b[0m\u001b[1;34m\"Expecting value\"\u001b[0m\u001b[1;33m,\u001b[0m \u001b[0ms\u001b[0m\u001b[1;33m,\u001b[0m \u001b[0merr\u001b[0m\u001b[1;33m.\u001b[0m\u001b[0mvalue\u001b[0m\u001b[1;33m)\u001b[0m \u001b[1;32mfrom\u001b[0m \u001b[1;32mNone\u001b[0m\u001b[1;33m\u001b[0m\u001b[1;33m\u001b[0m\u001b[0m\n\u001b[0m\u001b[0;32m    356\u001b[0m         \u001b[1;32mreturn\u001b[0m \u001b[0mobj\u001b[0m\u001b[1;33m,\u001b[0m \u001b[0mend\u001b[0m\u001b[1;33m\u001b[0m\u001b[1;33m\u001b[0m\u001b[0m\n",
      "\u001b[1;31mJSONDecodeError\u001b[0m: Expecting value: line 1 column 1 (char 0)"
     ]
    }
   ],
   "source": [
    "req_count = 1\n",
    "while has_next:\n",
    "    \n",
    "    URL[2] = next_hash\n",
    "    prepped.url = urlfier(URL)\n",
    "    \n",
    "    resp = s.send(prepped)\n",
    "    print(f'{req_count} requests made.')\n",
    "    req_count += 1\n",
    "    \n",
    "    reqHandler.append(resp.json())\n",
    "    \n",
    "    has_next = reqHandler[-1]['data']['shortcode_media']['edge_media_to_parent_comment']['page_info']['has_next_page']\n",
    "    next_hash = reqHandler[-1]['data']['shortcode_media']['edge_media_to_parent_comment']['page_info']['end_cursor'][:(-2)]\n",
    "    time.sleep(1.5)\n",
    "\n",
    "len(reqHandler)"
   ]
  },
  {
   "cell_type": "code",
   "execution_count": 62,
   "metadata": {},
   "outputs": [
    {
     "data": {
      "text/plain": [
       "11"
      ]
     },
     "execution_count": 62,
     "metadata": {},
     "output_type": "execute_result"
    }
   ],
   "source": [
    "req_handler = reqHandler\n",
    "len(req_handler)"
   ]
  },
  {
   "cell_type": "code",
   "execution_count": 83,
   "metadata": {},
   "outputs": [],
   "source": [
    "edges_handler = []"
   ]
  },
  {
   "cell_type": "code",
   "execution_count": 84,
   "metadata": {
    "scrolled": true
   },
   "outputs": [
    {
     "data": {
      "text/plain": [
       "11"
      ]
     },
     "execution_count": 84,
     "metadata": {},
     "output_type": "execute_result"
    }
   ],
   "source": [
    "# Preppare to dfs extracting all edges\n",
    "\n",
    "for req in req_handler:\n",
    "    edges_handler.append(req['data']['shortcode_media']['edge_media_to_parent_comment']['edges'])\n",
    "\n",
    "len(edges_handler)"
   ]
  },
  {
   "cell_type": "code",
   "execution_count": 91,
   "metadata": {
    "scrolled": true
   },
   "outputs": [
    {
     "data": {
      "text/plain": [
       "{'id': '18145711345009751',\n",
       " 'text': 'That show was fire bro fire. Inspiring',\n",
       " 'created_at': 1591740362,\n",
       " 'did_report_as_spam': False,\n",
       " 'owner': {'id': '5870022855',\n",
       "  'is_verified': False,\n",
       "  'profile_pic_url': 'https://instagram.fsod2-1.fna.fbcdn.net/v/t51.2885-19/s150x150/125306034_773308609884821_5132705361019659910_n.jpg?_nc_ht=instagram.fsod2-1.fna.fbcdn.net&_nc_ohc=uGQh-2NDG_EAX_12rv_&tp=1&oh=9ce09d18b60a465b747b38baa83bdefc&oe=6004684F',\n",
       "  'username': 'dust_py'},\n",
       " 'viewer_has_liked': False,\n",
       " 'edge_liked_by': {'count': 0},\n",
       " 'is_restricted_pending': False,\n",
       " 'edge_threaded_comments': {'count': 0,\n",
       "  'page_info': {'has_next_page': False, 'end_cursor': None},\n",
       "  'edges': []}}"
      ]
     },
     "execution_count": 91,
     "metadata": {},
     "output_type": "execute_result"
    }
   ],
   "source": [
    "# Comments infos # Possível problemas \"sub comments has next page\"\n",
    "edges_handler[0][0]['node']\n"
   ]
  },
  {
   "cell_type": "code",
   "execution_count": 99,
   "metadata": {},
   "outputs": [
    {
     "data": {
      "text/plain": [
       "{'username': 'dust_py',\n",
       " 'verified': False,\n",
       " 'comment': 'That show was fire bro fire. Inspiring',\n",
       " 'comment_date': 1591740362,\n",
       " 'profile_picture': 'https://instagram.fsod2-1.fna.fbcdn.net/v/t51.2885-19/s150x150/125306034_773308609884821_5132705361019659910_n.jpg?_nc_ht=instagram.fsod2-1.fna.fbcdn.net&_nc_ohc=uGQh-2NDG_EAX_12rv_&tp=1&oh=9ce09d18b60a465b747b38baa83bdefc&oe=6004684F',\n",
       " 'replies': []}"
      ]
     },
     "execution_count": 99,
     "metadata": {},
     "output_type": "execute_result"
    }
   ],
   "source": [
    "# Setting up a template to handle all comments\n",
    "template = {\n",
    "    \"username\" : edges_handler[0][0]['node']['owner']['username'],\n",
    "    \"verified\" : edges_handler[0][0]['node']['owner']['is_verified'],\n",
    "    \"comment\": edges_handler[0][0]['node']['text'],\n",
    "    \"comment_date\": edges_handler[0][0]['node']['created_at'],\n",
    "    \"profile_picture\": edges_handler[0][0]['node']['owner']['profile_pic_url'],\n",
    "    \"replies\": []\n",
    "}\n",
    "\n",
    "template"
   ]
  },
  {
   "cell_type": "code",
   "execution_count": 71,
   "metadata": {},
   "outputs": [
    {
     "data": {
      "text/plain": [
       "dict"
      ]
     },
     "execution_count": 71,
     "metadata": {},
     "output_type": "execute_result"
    }
   ],
   "source": [
    "# Starting DFS\n",
    "for edge in edges_handler:\n",
    "    "
   ]
  },
  {
   "cell_type": "code",
   "execution_count": null,
   "metadata": {},
   "outputs": [],
   "source": []
  }
 ],
 "metadata": {
  "kernelspec": {
   "display_name": "Python 3",
   "language": "python",
   "name": "python3"
  },
  "language_info": {
   "codemirror_mode": {
    "name": "ipython",
    "version": 3
   },
   "file_extension": ".py",
   "mimetype": "text/x-python",
   "name": "python",
   "nbconvert_exporter": "python",
   "pygments_lexer": "ipython3",
   "version": "3.8.6"
  }
 },
 "nbformat": 4,
 "nbformat_minor": 4
}
